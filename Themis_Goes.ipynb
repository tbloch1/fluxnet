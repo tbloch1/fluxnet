{
  "nbformat": 4,
  "nbformat_minor": 0,
  "metadata": {
    "colab": {
      "name": "Themis_Goes.ipynb",
      "provenance": [],
      "collapsed_sections": [],
      "authorship_tag": "ABX9TyOlyKVfZQszkM/UE+cEYclt",
      "include_colab_link": true
    },
    "kernelspec": {
      "name": "python3",
      "display_name": "Python 3"
    }
  },
  "cells": [
    {
      "cell_type": "markdown",
      "metadata": {
        "id": "view-in-github",
        "colab_type": "text"
      },
      "source": [
        "<a href=\"https://colab.research.google.com/github/tbloch1/fluxnet/blob/main/Themis_Goes.ipynb\" target=\"_parent\"><img src=\"https://colab.research.google.com/assets/colab-badge.svg\" alt=\"Open In Colab\"/></a>"
      ]
    },
    {
      "cell_type": "code",
      "metadata": {
        "id": "2EjRFsxGwXib"
      },
      "source": [
        "import numpy as np\n",
        "import pandas as pd\n",
        "import datetime as dt\n",
        "import os\n",
        "import glob\n",
        "import requests\n",
        "import multiprocessing as mp\n",
        "import time\n",
        "import warnings\n",
        "import io\n",
        "import multiprocessing as mp\n",
        "\n",
        "from IPython.display import clear_output\n",
        "import matplotlib.pyplot as plt\n",
        "import seaborn as sns\n",
        "import matplotlib.gridspec as gridspec\n",
        "\n",
        "try:\n",
        "  import sunpy\n",
        "except:\n",
        "  !pip install sunpy\n",
        "  clear_output()\n",
        "\n",
        "try:\n",
        "  import cdflib\n",
        "except:\n",
        "  !pip install cdflib\n",
        "  import cdflib\n",
        "  clear_output()\n",
        "\n",
        "from sklearn.preprocessing import StandardScaler as SS\n",
        "from sklearn.preprocessing import MinMaxScaler as MMS\n",
        "\n",
        "plt.rcParams.update({'font.size': 8})"
      ],
      "execution_count": 1,
      "outputs": []
    },
    {
      "cell_type": "code",
      "metadata": {
        "id": "RcpPtxF-NhvM"
      },
      "source": [
        "filepath = 'data/'\n",
        "if not os.path.exists(filepath):\n",
        "    os.makedirs(filepath)"
      ],
      "execution_count": 63,
      "outputs": []
    },
    {
      "cell_type": "code",
      "metadata": {
        "id": "5Ib7xGPI6JSy"
      },
      "source": [
        "def get_electron_data(spacecraft, year, month,mp=False):\n",
        "    url = ('https://cdaweb.gsfc.nasa.gov/'+\n",
        "           'pub/data/goes/goes{}/'.format(spacecraft)+\n",
        "           'epead-electrons/e13ew_1min/'+\n",
        "           '{}/goes{}_epead-science'.format(year,spacecraft)+\n",
        "           '-electrons-e13ew_1min_'+\n",
        "           '{}{:02d}01_v01.cdf'.format(year,month))\n",
        "\n",
        "    data = requests.get(url)\n",
        "    if data.status_code == 200:\n",
        "        filename = filepath+'{}_{}_{:02d}'.format(spacecraft,year, month)\n",
        "        with open(filename+'.cdf', 'wb') as f:\n",
        "            f.write(data.content)\n",
        "        goes = cdflib.CDF(filename+'.cdf')\n",
        "\n",
        "        time = goes.varget('Epoch') # CDF epoch TT2000\n",
        "        time = cdflib.epochs.CDFepoch.unixtime(time) # Unix Epoch\n",
        "        en08 = goes.varget('E1W_COR_FLUX')\n",
        "        en2 = goes.varget('E2W_COR_FLUX')\n",
        "        en08err = goes.varget('E1W_COR_ERR')\n",
        "        en2err = goes.varget('E2W_COR_ERR')\n",
        "        en08q = goes.varget('E1W_DQF')\n",
        "        en2q = goes.varget('E2W_DQF')\n",
        "\n",
        "        goes_df = pd.DataFrame([time,en08,en2,en08err,\n",
        "                                en2err,en08q,en2q],\n",
        "                                index=['epoch_time',\n",
        "                                       '800kevflux',\n",
        "                                       '2mevflux',\n",
        "                                       '800kevstd',\n",
        "                                       '2mevstd',\n",
        "                                       '800kevqual',\n",
        "                                       '2mevqual']).T\n",
        "        \n",
        "        goes_df = goes_df.astype({'800kevflux':'float32',\n",
        "                                    '2mevflux':'float32',\n",
        "                                    '800kevstd':'float32',\n",
        "                                    '2mevstd':'float32',\n",
        "                                    '800kevqual':'float32',\n",
        "                                    '2mevqual':'float32'})\n",
        "        if not mp:\n",
        "            return goes_df\n",
        "        if mp:\n",
        "            goes_df.to_parquet(filepath+\n",
        "                               'goes{}_electron_{}_{}.parquet'.format(spacecraft,\n",
        "                                                                      year,\n",
        "                                                                      month))\n",
        "    else:\n",
        "        return False"
      ],
      "execution_count": 3,
      "outputs": []
    },
    {
      "cell_type": "code",
      "metadata": {
        "id": "Qev8rsly6sPr"
      },
      "source": [
        "def get_ephemeris_data(spacecraft,year,mp=False):\n",
        "    url = ('https://cdaweb.gsfc.nasa.gov/pub/data/goes/'+\n",
        "           'goes{}/orbit/{}/goes{}'.format(spacecraft,year,spacecraft)+\n",
        "           '_ephemeris_ssc_{}0101_v01.cdf'.format(year))\n",
        "    data = requests.get(url)\n",
        "    \n",
        "    filename = filepath+'{}_{}_01_ephemeris'.format(spacecraft,year)\n",
        "    if data.status_code == 200:\n",
        "        with open(filename+'.cdf', 'wb') as f:\n",
        "            f.write(data.content)\n",
        "        goes = cdflib.CDF(filename+'.cdf')\n",
        "\n",
        "        time = goes.varget('Epoch') # CDF Epoch 0\n",
        "        time = cdflib.epochs.CDFepoch.unixtime(time, to_np=True) # Unix Epoch\n",
        "        xyzgsm = goes.varget('XYZ_GSM')\n",
        "        xyzgse = goes.varget('XYZ_GSE')\n",
        "        xyzgm = goes.varget('XYZ_GM')\n",
        "\n",
        "        goes_df = pd.DataFrame(np.concatenate((time.reshape(-1,1),\n",
        "                                            xyzgsm, xyzgse,xyzgm),axis=1),\n",
        "                            columns=['epoch_time',\n",
        "                                    'xgsm','ygsm','zgsm',\n",
        "                                    'xgse','ygse','zgse',\n",
        "                                    'xgm','ygm','zgm'])\n",
        "        if not mp:\n",
        "            return goes_df\n",
        "        if mp:\n",
        "            goes_df.to_parquet(filepath+\n",
        "                               'goes{}_ephemeris_{}.parquet'.format(spacecraft,\n",
        "                                                                    year))\n",
        "    else:\n",
        "        return False"
      ],
      "execution_count": 4,
      "outputs": []
    },
    {
      "cell_type": "code",
      "metadata": {
        "id": "zBUQEyLaXpuO"
      },
      "source": [
        "inputs1 = [(spacecraft,year,month,True) for spacecraft in range(13,16)\n",
        "           for year in range(2010,2021) for month in range(1,13)]\n",
        "\n",
        "pool = mp.Pool(mp.cpu_count())\n",
        "pool.starmap(get_electron_data,inputs1)\n",
        "pool.close()"
      ],
      "execution_count": 5,
      "outputs": []
    },
    {
      "cell_type": "code",
      "metadata": {
        "id": "1qm3TlE7hean"
      },
      "source": [
        "inputs2 = [(spacecraft,year,True) for spacecraft in range(13,16)\n",
        "           for year in range(2010,2021)]\n",
        "           \n",
        "pool = mp.Pool(mp.cpu_count())\n",
        "pool.starmap(get_ephemeris_data,inputs2)\n",
        "pool.close()"
      ],
      "execution_count": 6,
      "outputs": []
    },
    {
      "cell_type": "code",
      "metadata": {
        "id": "moEX3yNXLvtg"
      },
      "source": [
        "for spacecraft in range(13,16):\n",
        "    files = glob.glob(filepath+'goes{}_electron*.parquet'.format(spacecraft))\n",
        "    elec_df = pd.concat([pd.read_parquet(i) for i in files])\n",
        "\n",
        "    files = glob.glob(filepath+'goes{}_ephemeris*.parquet'.format(spacecraft))\n",
        "    ephem_df = pd.concat([pd.read_parquet(i) for i in files])\n",
        "\n",
        "    elec_df.index = [dt.datetime(1970,1,1)+dt.timedelta(seconds=i)\n",
        "             for i in elec_df.epoch_time]\n",
        "    ephem_df.index = [dt.datetime(1970,1,1)+dt.timedelta(seconds=i)\n",
        "                for i in ephem_df.epoch_time]\n",
        "\n",
        "    elec_df = elec_df.sort_index()\n",
        "    ephem_df = ephem_df.sort_index().resample('1T').mean().interpolate(method='linear',\n",
        "                                                                       limit=2)\n",
        "    ephem_df = ephem_df.drop('epoch_time',axis=1)\n",
        "    ephem_df['mlt'] = 24*(np.arctan2(ephem_df.ygsm,ephem_df.xgsm)+np.pi)/(2*np.pi)\n",
        "    pd.concat([elec_df,ephem_df],axis=1,\n",
        "              join='inner').to_parquet(filepath+\n",
        "                                       'goes{}.parquet'.format(spacecraft))"
      ],
      "execution_count": 36,
      "outputs": []
    },
    {
      "cell_type": "code",
      "metadata": {
        "id": "kd3Dm63JNN1X"
      },
      "source": [
        "# display(elec_df.head())\n",
        "# display(ephem_df.head())"
      ],
      "execution_count": 64,
      "outputs": []
    },
    {
      "cell_type": "code",
      "metadata": {
        "id": "VCtatoAVOUv4"
      },
      "source": [
        "# df1 = elec_df.copy()\n",
        "# df2 = ephem_df.copy()"
      ],
      "execution_count": 25,
      "outputs": []
    },
    {
      "cell_type": "code",
      "metadata": {
        "id": "RFtYrPgu7nBN"
      },
      "source": [
        "# df = pd.read_parquet('goes13.parquet')"
      ],
      "execution_count": 45,
      "outputs": []
    },
    {
      "cell_type": "code",
      "metadata": {
        "id": "DOAQnVBo-b2T"
      },
      "source": [
        "# plt.hist(df.xgm,bins=100)\n",
        "# plt.hist(df.ygm,bins=100)\n",
        "# plt.hist(df.zgm,bins=100)\n",
        "# plt.show()"
      ],
      "execution_count": 65,
      "outputs": []
    },
    {
      "cell_type": "code",
      "metadata": {
        "id": "U0hwZkcSrA8o"
      },
      "source": [
        ""
      ],
      "execution_count": null,
      "outputs": []
    }
  ]
}